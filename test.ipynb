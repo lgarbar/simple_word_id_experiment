{
 "cells": [
  {
   "cell_type": "code",
   "execution_count": null,
   "id": "4e40122d",
   "metadata": {},
   "outputs": [],
   "source": [
    "import pandas"
   ]
  },
  {
   "cell_type": "code",
   "execution_count": 1,
   "id": "605c8559",
   "metadata": {},
   "outputs": [],
   "source": [
    "EXPERIMENT_CONTENT = {\n",
    "    'Welcome_1': ['Welcome to the Experiment!'],\n",
    "    \n",
    "    'Instructions_1': ['Instructions:', 'You will see several pages of text', 'Repeat the words you see outloud.'],\n",
    "    \n",
    "    'List_1': ['Banana', 'Rain', 'Artichoke', 'Mother'],\n",
    "\n",
    "    'List_2': ['Cloud', 'Table', 'Penguin', 'Laugh'],\n",
    "\n",
    "    'List_3': ['Chair', 'Sunshine', 'Bottle', 'Dance'],\n",
    "    \n",
    "    'ThankYou_1': ['Thank You!', 'You have completed the experiment.', 'Your data has been saved.', 'Press SPACEBAR to exit.']\n",
    "}"
   ]
  },
  {
   "cell_type": "code",
   "execution_count": 4,
   "id": "50c77538",
   "metadata": {},
   "outputs": [
    {
     "name": "stdout",
     "output_type": "stream",
     "text": [
      "Welcome to the Experiment!\n",
      "Instructions:\n",
      "\n",
      "You will see several pages of text\n",
      "\n",
      "Repeat the words you see outloud.\n",
      "Banana\n",
      "\n",
      "Rain\n",
      "\n",
      "Artichoke\n",
      "\n",
      "Mother\n",
      "Cloud\n",
      "\n",
      "Table\n",
      "\n",
      "Penguin\n",
      "\n",
      "Laugh\n",
      "Chair\n",
      "\n",
      "Sunshine\n",
      "\n",
      "Bottle\n",
      "\n",
      "Dance\n",
      "Thank You!\n",
      "\n",
      "You have completed the experiment.\n",
      "\n",
      "Your data has been saved.\n",
      "\n",
      "Press SPACEBAR to exit.\n"
     ]
    }
   ],
   "source": [
    "for page_name, text_content in EXPERIMENT_CONTENT.items():\n",
    "    formatted = '\\n\\n'.join(text_content)\n",
    "    print(formatted)"
   ]
  },
  {
   "cell_type": "code",
   "execution_count": null,
   "id": "d5960882",
   "metadata": {},
   "outputs": [],
   "source": []
  }
 ],
 "metadata": {
  "kernelspec": {
   "display_name": "experiment",
   "language": "python",
   "name": "python3"
  },
  "language_info": {
   "codemirror_mode": {
    "name": "ipython",
    "version": 3
   },
   "file_extension": ".py",
   "mimetype": "text/x-python",
   "name": "python",
   "nbconvert_exporter": "python",
   "pygments_lexer": "ipython3",
   "version": "3.9.23"
  }
 },
 "nbformat": 4,
 "nbformat_minor": 5
}
